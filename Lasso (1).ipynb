{
 "cells": [
  {
   "cell_type": "markdown",
   "metadata": {},
   "source": [
    "#### 1. Loading the diabetes dataset"
   ]
  },
  {
   "cell_type": "code",
   "execution_count": 362,
   "metadata": {},
   "outputs": [],
   "source": [
    "from sklearn.datasets import load_diabetes\n"
   ]
  },
  {
   "cell_type": "code",
   "execution_count": 363,
   "metadata": {},
   "outputs": [],
   "source": [
    "diabetes = load_diabetes()"
   ]
  },
  {
   "cell_type": "markdown",
   "metadata": {},
   "source": [
    "#### 2. - Splitting the dataset and using birthday as random state"
   ]
  },
  {
   "cell_type": "code",
   "execution_count": 364,
   "metadata": {},
   "outputs": [],
   "source": [
    "from sklearn.model_selection import train_test_split\n",
    "X_train, X_test, y_train, y_test = train_test_split(diabetes['data'], diabetes['target'],random_state=804)"
   ]
  },
  {
   "cell_type": "code",
   "execution_count": 365,
   "metadata": {},
   "outputs": [
    {
     "data": {
      "text/plain": [
       "0.4003687245034687"
      ]
     },
     "execution_count": 365,
     "metadata": {},
     "output_type": "execute_result"
    }
   ],
   "source": [
    "from sklearn.linear_model import Lasso\n",
    "lasso = Lasso().fit(X_train,y_train)\n",
    "lasso.score(X_train,y_train)"
   ]
  },
  {
   "cell_type": "code",
   "execution_count": 366,
   "metadata": {},
   "outputs": [
    {
     "data": {
      "text/plain": [
       "0.3008233239979874"
      ]
     },
     "execution_count": 366,
     "metadata": {},
     "output_type": "execute_result"
    }
   ],
   "source": [
    "lasso.score(X_test,y_test)"
   ]
  },
  {
   "cell_type": "code",
   "execution_count": 367,
   "metadata": {},
   "outputs": [],
   "source": [
    "dict1 = dict(zip(diabetes.feature_names, lasso.coef_))"
   ]
  },
  {
   "cell_type": "code",
   "execution_count": 368,
   "metadata": {},
   "outputs": [
    {
     "data": {
      "text/plain": [
       "3"
      ]
     },
     "execution_count": 368,
     "metadata": {},
     "output_type": "execute_result"
    }
   ],
   "source": [
    "np.sum(lasso.coef_ != 0)"
   ]
  },
  {
   "cell_type": "code",
   "execution_count": 369,
   "metadata": {},
   "outputs": [
    {
     "data": {
      "text/plain": [
       "{'age': 0.0,\n",
       " 'sex': -0.0,\n",
       " 'bmi': 345.88235732585105,\n",
       " 'bp': 6.907798320739387,\n",
       " 's1': 0.0,\n",
       " 's2': 0.0,\n",
       " 's3': -0.0,\n",
       " 's4': 0.0,\n",
       " 's5': 392.6422634537517,\n",
       " 's6': 0.0}"
      ]
     },
     "execution_count": 369,
     "metadata": {},
     "output_type": "execute_result"
    }
   ],
   "source": [
    "dict1"
   ]
  },
  {
   "cell_type": "markdown",
   "metadata": {},
   "source": [
    "#### 3. Count of features and their respective names and R^2\n",
    "\n",
    "Clearly, the model uses 3 features for which coef_ != 0 which are as follows\n",
    "1. bmi\n",
    "2. bp\n",
    "3. s5\n",
    "\n",
    "As per the output of lasso.score, training R^2 is 0.4003687245034687 and test R^2 0.3008233239979874"
   ]
  },
  {
   "cell_type": "markdown",
   "metadata": {},
   "source": [
    "#### 4. Loading the original diabetes.data "
   ]
  },
  {
   "cell_type": "code",
   "execution_count": 370,
   "metadata": {},
   "outputs": [],
   "source": [
    "import numpy as np\n",
    "X = np.genfromtxt(\"diabetes.data\",delimiter=\"\\t\",usecols=np.arange(10),skip_header=1)\n",
    "y = np.genfromtxt(\"diabetes.data\",delimiter=\"\\t\",usecols = 10, dtype=int,skip_header=1)"
   ]
  },
  {
   "cell_type": "markdown",
   "metadata": {},
   "source": [
    "#### 5. Split the loaded diabetes.data file into training and test data"
   ]
  },
  {
   "cell_type": "code",
   "execution_count": 371,
   "metadata": {},
   "outputs": [],
   "source": [
    "from sklearn.model_selection import train_test_split\n",
    "X_train, X_test, y_train, y_test = train_test_split(X,y,random_state=804)"
   ]
  },
  {
   "cell_type": "code",
   "execution_count": 372,
   "metadata": {},
   "outputs": [
    {
     "data": {
      "text/plain": [
       "0.5571509380579014"
      ]
     },
     "execution_count": 372,
     "metadata": {},
     "output_type": "execute_result"
    }
   ],
   "source": [
    "from sklearn.linear_model import Lasso\n",
    "lasso = Lasso().fit(X_train,y_train)\n",
    "lasso.score(X_train,y_train)"
   ]
  },
  {
   "cell_type": "code",
   "execution_count": 373,
   "metadata": {},
   "outputs": [
    {
     "data": {
      "text/plain": [
       "0.37472345499071036"
      ]
     },
     "execution_count": 373,
     "metadata": {},
     "output_type": "execute_result"
    }
   ],
   "source": [
    "lasso.score(X_test,y_test)"
   ]
  },
  {
   "cell_type": "code",
   "execution_count": 374,
   "metadata": {},
   "outputs": [
    {
     "data": {
      "text/plain": [
       "9"
      ]
     },
     "execution_count": 374,
     "metadata": {},
     "output_type": "execute_result"
    }
   ],
   "source": [
    "np.sum(lasso.coef_ != 0)"
   ]
  },
  {
   "cell_type": "code",
   "execution_count": 375,
   "metadata": {},
   "outputs": [],
   "source": [
    "dict1 = dict(zip(diabetes.feature_names, lasso.coef_))"
   ]
  },
  {
   "cell_type": "code",
   "execution_count": 376,
   "metadata": {},
   "outputs": [
    {
     "data": {
      "text/plain": [
       "{'age': -0.07486714460620997,\n",
       " 'sex': -22.666947965349323,\n",
       " 'bmi': 5.765243269120538,\n",
       " 'bp': 1.1058436301855596,\n",
       " 's1': -0.009282804489657931,\n",
       " 's2': -0.140753531512414,\n",
       " 's3': -0.9802279086132046,\n",
       " 's4': 0.0,\n",
       " 's5': 45.50994153896984,\n",
       " 's6': 0.2944247835750084}"
      ]
     },
     "execution_count": 376,
     "metadata": {},
     "output_type": "execute_result"
    }
   ],
   "source": [
    "dict1"
   ]
  },
  {
   "cell_type": "markdown",
   "metadata": {},
   "source": [
    "#### 6. Count of features ,their respective names and R^2\n",
    "\n",
    "The model on the downloaded dataset uses 9 features which are following:\n",
    "1. age\n",
    "2. sex\n",
    "3. bmi\n",
    "4. bp\n",
    "5. s1\n",
    "6. s2\n",
    "7. s3\n",
    "8. s5\n",
    "9. s6\n",
    "\n",
    "\n",
    "The training R^2 in this case is 0.5571509380579014 and the test R^2 is 0.37472345499071036\n",
    "\n",
    "\n",
    "As compared to Step 3, The model fit on the downloaded data file uses more features and hence the result of R^2 is more than the previous dataset"
   ]
  },
  {
   "cell_type": "markdown",
   "metadata": {},
   "source": [
    "#### 7. Data preprocessing using Standard Scaler"
   ]
  },
  {
   "cell_type": "code",
   "execution_count": 377,
   "metadata": {},
   "outputs": [],
   "source": [
    "from sklearn.preprocessing import StandardScaler"
   ]
  },
  {
   "cell_type": "code",
   "execution_count": 378,
   "metadata": {},
   "outputs": [
    {
     "data": {
      "text/plain": [
       "StandardScaler(copy=True, with_mean=True, with_std=True)"
      ]
     },
     "execution_count": 378,
     "metadata": {},
     "output_type": "execute_result"
    }
   ],
   "source": [
    "scaler = StandardScaler()\n",
    "scaler.fit(X_train)"
   ]
  },
  {
   "cell_type": "code",
   "execution_count": 379,
   "metadata": {},
   "outputs": [],
   "source": [
    "X_train_scaled = scaler.transform(X_train)\n",
    "X_test_scaled = scaler.transform(X_test)"
   ]
  },
  {
   "cell_type": "code",
   "execution_count": 380,
   "metadata": {},
   "outputs": [
    {
     "data": {
      "text/plain": [
       "0.5588219147472661"
      ]
     },
     "execution_count": 380,
     "metadata": {},
     "output_type": "execute_result"
    }
   ],
   "source": [
    "from sklearn.linear_model import Lasso\n",
    "lasso = Lasso().fit(X_train_scaled,y_train)\n",
    "lasso.score(X_train_scaled,y_train)"
   ]
  },
  {
   "cell_type": "code",
   "execution_count": 381,
   "metadata": {},
   "outputs": [
    {
     "data": {
      "text/plain": [
       "0.36468282783540706"
      ]
     },
     "execution_count": 381,
     "metadata": {},
     "output_type": "execute_result"
    }
   ],
   "source": [
    "lasso.score(X_test_scaled,y_test)"
   ]
  },
  {
   "cell_type": "code",
   "execution_count": 382,
   "metadata": {},
   "outputs": [
    {
     "data": {
      "text/plain": [
       "7"
      ]
     },
     "execution_count": 382,
     "metadata": {},
     "output_type": "execute_result"
    }
   ],
   "source": [
    "np.sum(lasso.coef_ != 0)"
   ]
  },
  {
   "cell_type": "code",
   "execution_count": 383,
   "metadata": {},
   "outputs": [],
   "source": [
    "dict1 = dict(zip(diabetes.feature_names, lasso.coef_))"
   ]
  },
  {
   "cell_type": "code",
   "execution_count": 384,
   "metadata": {},
   "outputs": [
    {
     "data": {
      "text/plain": [
       "{'age': -0.0,\n",
       " 'sex': -11.976772021323512,\n",
       " 'bmi': 24.631883761822703,\n",
       " 'bp': 14.114512179752982,\n",
       " 's1': -4.806100236045458,\n",
       " 's2': -0.0,\n",
       " 's3': -10.117660435650013,\n",
       " 's4': 0.0,\n",
       " 's5': 28.251847855781648,\n",
       " 's6': 2.00714699530631}"
      ]
     },
     "execution_count": 384,
     "metadata": {},
     "output_type": "execute_result"
    }
   ],
   "source": [
    "dict1"
   ]
  },
  {
   "cell_type": "markdown",
   "metadata": {},
   "source": [
    "#### 8. Count of features, respective names and R^2\n",
    "After applying StandardScaler, the number of features used by the model are 7. The list is as follows:\n",
    "1. sex\n",
    "2. bmi\n",
    "3. bp\n",
    "4. s1\n",
    "5. s3\n",
    "6. s5\n",
    "7. s6\n",
    "\n",
    "The training R^2 is 0.5588219147472661 and the test R^2 is 0.36468282783540706\n",
    "\n",
    "\n",
    "The current results are closer to the step 6, i.e for the original data because data used in item 3 is normalized and in case of item 6 we use only standard scaler to scale the data.\n",
    "Also, we have already preprocessed the data and then applied prediction which comes out to be wrong series of events on the data"
   ]
  },
  {
   "cell_type": "code",
   "execution_count": null,
   "metadata": {},
   "outputs": [],
   "source": []
  },
  {
   "cell_type": "code",
   "execution_count": 496,
   "metadata": {},
   "outputs": [],
   "source": [
    "lasso1 = Lasso(alpha=1,max_iter=100000).fit(X_train_scaled,y_train)\n",
    "r1 = lasso1.score(X_test_scaled,y_test)\n",
    "lasso01 =Lasso(alpha=0.1,max_iter=100000).fit(X_train_scaled,y_train)\n",
    "r01 = lasso01.score(X_test_scaled,y_test)\n",
    "lasso001 = Lasso(alpha=0.01,max_iter=100000).fit(X_train_scaled,y_train)\n",
    "r001 = lasso001.score(X_test_scaled,y_test)\n",
    "lasso0001 = Lasso(alpha=0.001,max_iter=100000).fit(X_train_scaled,y_train)\n",
    "r0001 = lasso0001.score(X_test_scaled,y_test)\n",
    "lasso10 = Lasso(alpha=10,max_iter=100000).fit(X_train_scaled,y_train)\n",
    "r10 = lasso10.score(X_test_scaled,y_test)\n",
    "lasso7 = Lasso(alpha=7,max_iter=100000).fit(X_train_scaled,y_train)\n",
    "r7 = lasso7.score(X_test_scaled,y_test)"
   ]
  },
  {
   "cell_type": "code",
   "execution_count": 497,
   "metadata": {},
   "outputs": [],
   "source": [
    "\n",
    "rs = [r0001,r001,r01,r1,r7,r10]\n"
   ]
  },
  {
   "cell_type": "code",
   "execution_count": 498,
   "metadata": {},
   "outputs": [],
   "source": [
    "coefs=[np.sum(lasso0001.coef_!=0),np.sum(lasso001.coef_!=0),np.sum(lasso01.coef_!=0),np.sum(lasso1.coef_!=0),np.sum(lasso7.coef_!=0),np.sum(lasso10.coef_!=0)]"
   ]
  },
  {
   "cell_type": "code",
   "execution_count": 618,
   "metadata": {},
   "outputs": [
    {
     "data": {
      "text/plain": [
       "<matplotlib.legend.Legend at 0x1a2037ba20>"
      ]
     },
     "execution_count": 618,
     "metadata": {},
     "output_type": "execute_result"
    },
    {
     "data": {
      "image/png": "[encoded data removed]",
      "text/plain": [
       "<Figure size 432x288 with 1 Axes>"
      ]
     },
     "metadata": {},
     "output_type": "display_data"
    }
   ],
   "source": [
    "plt.plot(coefs,rs,\"v--\",label=\"R Squared\")\n",
    "plt.xlabel(\"Number of Features\")\n",
    "plt.ylabel(\"Test RSquared\")\n",
    "plt.legend()"
   ]
  },
  {
   "cell_type": "markdown",
   "metadata": {},
   "source": [
    "#### 9. Graph\n",
    "According to the graph, point (5,0.37) is the best point. This corresponds to Alpha = 0.1\n",
    "This is also verfied in cross validation below"
   ]
  },
  {
   "cell_type": "code",
   "execution_count": 500,
   "metadata": {},
   "outputs": [
    {
     "data": {
      "text/plain": [
       "0.359439290270696"
      ]
     },
     "execution_count": 500,
     "metadata": {},
     "output_type": "execute_result"
    }
   ],
   "source": [
    "param_grid = {'alpha': [0.001, 0.01, 0.1, 1, 10, 100]}\n",
    "from sklearn.model_selection import GridSearchCV\n",
    "grid_search = GridSearchCV(Lasso(), param_grid, cv=10)\n",
    "grid_search.fit(X_train_scaled, y_train)\n",
    "grid_search.score(X_test_scaled, y_test)"
   ]
  },
  {
   "cell_type": "code",
   "execution_count": 501,
   "metadata": {},
   "outputs": [
    {
     "name": "stdout",
     "output_type": "stream",
     "text": [
      "{'alpha': 0.1}\n",
      "0.5173749358640259\n"
     ]
    }
   ],
   "source": [
    "print(grid_search.best_params_)\n",
    "print(grid_search.best_score_)"
   ]
  },
  {
   "cell_type": "code",
   "execution_count": 502,
   "metadata": {},
   "outputs": [],
   "source": [
    "lasso = Lasso(alpha=0.1).fit(X_train_scaled,y_train)"
   ]
  },
  {
   "cell_type": "code",
   "execution_count": 503,
   "metadata": {},
   "outputs": [
    {
     "data": {
      "text/plain": [
       "0.5638164448343963"
      ]
     },
     "execution_count": 503,
     "metadata": {},
     "output_type": "execute_result"
    }
   ],
   "source": [
    "lasso.score(X_train_scaled,y_train)"
   ]
  },
  {
   "cell_type": "code",
   "execution_count": 504,
   "metadata": {},
   "outputs": [
    {
     "data": {
      "text/plain": [
       "0.359439290270696"
      ]
     },
     "execution_count": 504,
     "metadata": {},
     "output_type": "execute_result"
    }
   ],
   "source": [
    "lasso.score(X_test_scaled,y_test)"
   ]
  },
  {
   "cell_type": "code",
   "execution_count": 505,
   "metadata": {},
   "outputs": [
    {
     "data": {
      "text/plain": [
       "9"
      ]
     },
     "execution_count": 505,
     "metadata": {},
     "output_type": "execute_result"
    }
   ],
   "source": [
    "np.sum(lasso.coef_!=0)"
   ]
  },
  {
   "cell_type": "markdown",
   "metadata": {},
   "source": [
    "#### 10. Cross Validation \n",
    "Using 10 fold cross validation, the best alpha is 0.1\n",
    "\n",
    "Selecting alpha = 0.1 for Lasso, following are the R^2\n",
    "\n",
    "1. Training R^2 - 0.5638164448343963\n",
    "2. Test R^2 - 0.359439290270696\n",
    "\n",
    "\n",
    "Number of features used are 9"
   ]
  },
  {
   "cell_type": "code",
   "execution_count": 507,
   "metadata": {},
   "outputs": [],
   "source": [
    "X_train_proper, X_calibration, y_train_proper, y_calibration = train_test_split(X_train,y_train,random_state=804,test_size=99)"
   ]
  },
  {
   "cell_type": "code",
   "execution_count": 513,
   "metadata": {},
   "outputs": [],
   "source": [
    "scaler = StandardScaler()\n",
    "scaler.fit(X_train_proper)\n",
    "X_train_proper_scaled = scaler.transform(X_train_proper)\n",
    "X_calibration_scaled = scaler.transform(X_calibration)\n",
    "X_test_scaled = scaler.transform(X_test)"
   ]
  },
  {
   "cell_type": "code",
   "execution_count": 519,
   "metadata": {},
   "outputs": [],
   "source": [
    "from sklearn.linear_model import Lasso\n",
    "lasso = Lasso().fit(X_train_proper_scaled,y_train_proper)\n",
    "yval = lasso.predict(X_test_scaled)\n",
    "yhat = lasso.predict(X_calibration_scaled)"
   ]
  },
  {
   "cell_type": "code",
   "execution_count": 526,
   "metadata": {},
   "outputs": [],
   "source": [
    "alpha = abs(np.subtract(y_calibration ,yhat))"
   ]
  },
  {
   "cell_type": "code",
   "execution_count": 528,
   "metadata": {},
   "outputs": [],
   "source": [
    "alpha = sorted(alpha)"
   ]
  },
  {
   "cell_type": "code",
   "execution_count": 530,
   "metadata": {},
   "outputs": [],
   "source": [
    "k05  = (1 - 0.05) *(99 +1)"
   ]
  },
  {
   "cell_type": "code",
   "execution_count": 539,
   "metadata": {},
   "outputs": [],
   "source": [
    "k20=(1-0.2) *(99+1)"
   ]
  },
  {
   "cell_type": "code",
   "execution_count": 540,
   "metadata": {},
   "outputs": [],
   "source": [
    "c05 = alpha[int(k05) - 1]"
   ]
  },
  {
   "cell_type": "code",
   "execution_count": 541,
   "metadata": {},
   "outputs": [
    {
     "data": {
      "text/plain": [
       "106.23068983051851"
      ]
     },
     "execution_count": 541,
     "metadata": {},
     "output_type": "execute_result"
    }
   ],
   "source": [
    "c05"
   ]
  },
  {
   "cell_type": "code",
   "execution_count": 542,
   "metadata": {},
   "outputs": [],
   "source": [
    "c20 = alpha[int(k20)-1]"
   ]
  },
  {
   "cell_type": "code",
   "execution_count": 543,
   "metadata": {},
   "outputs": [
    {
     "data": {
      "text/plain": [
       "64.30153289055269"
      ]
     },
     "execution_count": 543,
     "metadata": {},
     "output_type": "execute_result"
    }
   ],
   "source": [
    "c20"
   ]
  },
  {
   "cell_type": "code",
   "execution_count": 546,
   "metadata": {},
   "outputs": [],
   "source": [
    "length05 = c05 *2 "
   ]
  },
  {
   "cell_type": "code",
   "execution_count": 547,
   "metadata": {},
   "outputs": [
    {
     "data": {
      "text/plain": [
       "212.46137966103703"
      ]
     },
     "execution_count": 547,
     "metadata": {},
     "output_type": "execute_result"
    }
   ],
   "source": [
    "length05"
   ]
  },
  {
   "cell_type": "code",
   "execution_count": 548,
   "metadata": {},
   "outputs": [],
   "source": [
    "length20 = c20*2"
   ]
  },
  {
   "cell_type": "code",
   "execution_count": 549,
   "metadata": {},
   "outputs": [
    {
     "data": {
      "text/plain": [
       "128.60306578110539"
      ]
     },
     "execution_count": 549,
     "metadata": {},
     "output_type": "execute_result"
    }
   ],
   "source": [
    "length20"
   ]
  },
  {
   "cell_type": "markdown",
   "metadata": {},
   "source": [
    "1. LENGTH OF INTERVAL FOR 5% IS 212.46137966103703\n",
    "2. LENGTH OF INTERVAL FOR 20% IS 128.60306578110539"
   ]
  },
  {
   "cell_type": "code",
   "execution_count": 559,
   "metadata": {},
   "outputs": [],
   "source": [
    "yvalp_05 = yval + c05\n",
    "yvaln_05 = yval - c05"
   ]
  },
  {
   "cell_type": "code",
   "execution_count": 595,
   "metadata": {},
   "outputs": [],
   "source": [
    "yvalp_20 = yval + c20\n",
    "yvaln_20 = yval - c20"
   ]
  },
  {
   "cell_type": "code",
   "execution_count": 605,
   "metadata": {},
   "outputs": [],
   "source": [
    "res5 = []\n",
    "for i in range(1,len(y_test)):\n",
    "    if yvaln_05[i]<=y_test[i] and yvalp_05[i] >= y_test[i]:\n",
    "        res5.append(True)\n",
    "    else:\n",
    "        res5.append(False)"
   ]
  },
  {
   "cell_type": "code",
   "execution_count": 606,
   "metadata": {},
   "outputs": [
    {
     "data": {
      "text/plain": [
       "0.08181818181818179"
      ]
     },
     "execution_count": 606,
     "metadata": {},
     "output_type": "execute_result"
    }
   ],
   "source": [
    "1 - np.mean(res5)"
   ]
  },
  {
   "cell_type": "code",
   "execution_count": 609,
   "metadata": {},
   "outputs": [],
   "source": [
    "res20 = []\n",
    "for j in range(1,len(y_test)):\n",
    "    if yvaln_20[j]<=y_test[j] and yvalp_20[j] >= y_test[j]:\n",
    "        res20.append(True)\n",
    "    else:\n",
    "        res20.append(False)"
   ]
  },
  {
   "cell_type": "code",
   "execution_count": 610,
   "metadata": {},
   "outputs": [
    {
     "data": {
      "text/plain": [
       "0.30000000000000004"
      ]
     },
     "execution_count": 610,
     "metadata": {},
     "output_type": "execute_result"
    }
   ],
   "source": [
    "1 - np.mean(res20)"
   ]
  },
  {
   "cell_type": "markdown",
   "metadata": {},
   "source": [
    "1. TEST ERROR RATE FOR 5% IS 0.08181818181818179\n",
    "2. TEST ERROR RATE FOR 20% IS 0.30000000000000004"
   ]
  }
 ],
 "metadata": {
  "kernelspec": {
   "display_name": "Python 3",
   "language": "python",
   "name": "python3"
  },
  "language_info": {
   "codemirror_mode": {
    "name": "ipython",
    "version": 3
   },
   "file_extension": ".py",
   "mimetype": "text/x-python",
   "name": "python",
   "nbconvert_exporter": "python",
   "pygments_lexer": "ipython3",
   "version": "3.6.5"
  }
 },
 "nbformat": 4,
 "nbformat_minor": 2
}
